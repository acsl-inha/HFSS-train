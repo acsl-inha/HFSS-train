{
 "cells": [
  {
   "cell_type": "code",
   "execution_count": 1,
   "metadata": {},
   "outputs": [],
   "source": [
    "import pandas as pd\n",
    "import numpy as np\n",
    "import torch\n",
    "import torch.nn as nn\n",
    "import torch.nn.functional as F\n",
    "import matplotlib.pyplot as plt"
   ]
  },
  {
   "cell_type": "code",
   "execution_count": 2,
   "metadata": {},
   "outputs": [],
   "source": [
    "xls_data=pd.read_excel(\"./table.xlsx\")"
   ]
  },
  {
   "cell_type": "code",
   "execution_count": 3,
   "metadata": {},
   "outputs": [],
   "source": [
    "t2_dat=xls_data.loc[:,\"# of turns\":\"HFSS\"]"
   ]
  },
  {
   "cell_type": "code",
   "execution_count": 4,
   "metadata": {},
   "outputs": [],
   "source": [
    "t3_dat=xls_data.loc[:,\"# of turns.1\":\"HFSS.1\"]"
   ]
  },
  {
   "cell_type": "code",
   "execution_count": 5,
   "metadata": {},
   "outputs": [],
   "source": [
    "t4_dat=xls_data.loc[:,\"# of turns.2\":\"HFSS.2\"]"
   ]
  },
  {
   "cell_type": "code",
   "execution_count": 6,
   "metadata": {},
   "outputs": [],
   "source": [
    "t2_dat=t2_dat.replace(np.nan,0)\n",
    "t3_dat=t3_dat.replace(np.nan,0)\n",
    "t4_dat=t4_dat.replace(np.nan,0)"
   ]
  },
  {
   "cell_type": "code",
   "execution_count": 7,
   "metadata": {},
   "outputs": [],
   "source": [
    "def data_restore(dat):\n",
    "    for col_name in dat.columns[:5]:\n",
    "        temp=0\n",
    "        for i in range(len(dat[col_name])):\n",
    "            if (dat.loc[i,col_name]!=0):\n",
    "                temp=dat.loc[i,col_name]\n",
    "            if (dat.loc[i,col_name]==0):\n",
    "                dat.loc[i,col_name]=temp\n",
    "    return dat"
   ]
  },
  {
   "cell_type": "code",
   "execution_count": 8,
   "metadata": {},
   "outputs": [],
   "source": [
    "t2_dat=data_restore(t2_dat)\n",
    "t3_dat=data_restore(t3_dat)\n",
    "t4_dat=data_restore(t4_dat)"
   ]
  },
  {
   "cell_type": "code",
   "execution_count": 9,
   "metadata": {},
   "outputs": [],
   "source": [
    "total_dat_temp=np.vstack([t2_dat.values, t3_dat.values,t4_dat.values])"
   ]
  },
  {
   "cell_type": "code",
   "execution_count": 10,
   "metadata": {},
   "outputs": [],
   "source": [
    "del_index=np.where(total_dat_temp[:,6]==0)[0]"
   ]
  },
  {
   "cell_type": "code",
   "execution_count": 11,
   "metadata": {},
   "outputs": [],
   "source": [
    "total_dat_temp=pd.DataFrame(total_dat_temp,columns=t2_dat.columns)"
   ]
  },
  {
   "cell_type": "code",
   "execution_count": 12,
   "metadata": {},
   "outputs": [],
   "source": [
    "total_dat=total_dat_temp.drop(del_index)"
   ]
  },
  {
   "cell_type": "code",
   "execution_count": 13,
   "metadata": {},
   "outputs": [],
   "source": [
    "total_dat.to_csv(\"preprocessed_data.csv\",\n",
    "                 columns=total_dat.columns,sep=\",\", index=False)"
   ]
  },
  {
   "cell_type": "code",
   "execution_count": 14,
   "metadata": {},
   "outputs": [],
   "source": [
    "data=total_dat.values\n",
    "data=np.delete(data, 100, axis=0)"
   ]
  },
  {
   "cell_type": "code",
   "execution_count": 15,
   "metadata": {},
   "outputs": [],
   "source": [
    "log_dat_x=np.log(data[:,:6])"
   ]
  },
  {
   "cell_type": "code",
   "execution_count": 16,
   "metadata": {},
   "outputs": [],
   "source": [
    "log_dat_y=np.log(data[:,6])"
   ]
  },
  {
   "cell_type": "code",
   "execution_count": 17,
   "metadata": {},
   "outputs": [],
   "source": [
    "x_train=log_dat_x"
   ]
  },
  {
   "cell_type": "code",
   "execution_count": 18,
   "metadata": {},
   "outputs": [],
   "source": [
    "max_x=np.max(x_train, axis=0)"
   ]
  },
  {
   "cell_type": "code",
   "execution_count": 19,
   "metadata": {},
   "outputs": [],
   "source": [
    "x_train=x_train/ max_x"
   ]
  },
  {
   "cell_type": "code",
   "execution_count": 20,
   "metadata": {},
   "outputs": [],
   "source": [
    "y_train=log_dat_y"
   ]
  },
  {
   "cell_type": "code",
   "execution_count": 21,
   "metadata": {},
   "outputs": [],
   "source": [
    "x_train=torch.FloatTensor(x_train)\n",
    "y_train=torch.FloatTensor(y_train)"
   ]
  },
  {
   "cell_type": "code",
   "execution_count": 22,
   "metadata": {},
   "outputs": [
    {
     "name": "stdout",
     "output_type": "stream",
     "text": [
      "Epoch    0/2000 Cost: 6.453676\n",
      "Epoch  100/2000 Cost: 0.373272\n",
      "Epoch  200/2000 Cost: 0.198168\n",
      "Epoch  300/2000 Cost: 0.119798\n",
      "Epoch  400/2000 Cost: 0.079066\n",
      "Epoch  500/2000 Cost: 0.057505\n",
      "Epoch  600/2000 Cost: 0.045890\n",
      "Epoch  700/2000 Cost: 0.039618\n",
      "Epoch  800/2000 Cost: 0.036229\n",
      "Epoch  900/2000 Cost: 0.034398\n",
      "Epoch 1000/2000 Cost: 0.033409\n",
      "Epoch 1100/2000 Cost: 0.032875\n",
      "Epoch 1200/2000 Cost: 0.032586\n",
      "Epoch 1300/2000 Cost: 0.032430\n",
      "Epoch 1400/2000 Cost: 0.032346\n",
      "Epoch 1500/2000 Cost: 0.032300\n",
      "Epoch 1600/2000 Cost: 0.032275\n",
      "Epoch 1700/2000 Cost: 0.032262\n",
      "Epoch 1800/2000 Cost: 0.032255\n",
      "Epoch 1900/2000 Cost: 0.032251\n",
      "Epoch 2000/2000 Cost: 0.032249\n"
     ]
    }
   ],
   "source": [
    "nb_epochs = 2000\n",
    "model=nn.Linear(6,1)\n",
    "val=0.001\n",
    "optimizer = torch.optim.SGD(model.parameters(),lr=0.1)\n",
    "for epoch in range(nb_epochs+1):\n",
    "\n",
    "    prediction = torch.squeeze(model(x_train))\n",
    "    regularity =  torch.norm(model.weight, p=1)\n",
    "    loss = F.mse_loss(prediction, y_train)\n",
    "    cost = loss + val*regularity\n",
    "    optimizer.zero_grad()\n",
    "    cost.backward()\n",
    "    optimizer.step()\n",
    "    \n",
    "    if epoch % 100 == 0:\n",
    "        print('Epoch {:4d}/{} Cost: {:.6f}'.format(\n",
    "              epoch, nb_epochs, cost.item()\n",
    "          ))"
   ]
  },
  {
   "cell_type": "code",
   "execution_count": 23,
   "metadata": {},
   "outputs": [],
   "source": [
    "x=np.squeeze(model(x_train).detach().numpy())"
   ]
  },
  {
   "cell_type": "code",
   "execution_count": 24,
   "metadata": {},
   "outputs": [],
   "source": [
    "y=y_train.detach().numpy()"
   ]
  },
  {
   "cell_type": "code",
   "execution_count": 25,
   "metadata": {},
   "outputs": [
    {
     "name": "stdout",
     "output_type": "stream",
     "text": [
      "MSE: 0.024332839995622635\n",
      "RMSE: 0.15598987145203574\n",
      "Percentage error: 19.671449236201745 %\n"
     ]
    },
    {
     "data": {
      "image/png": "[encoded data removed]",
      "text/plain": [
       "<Figure size 720x720 with 1 Axes>"
      ]
     },
     "metadata": {
      "needs_background": "light"
     },
     "output_type": "display_data"
    }
   ],
   "source": [
    "plt.figure(figsize=(10,10))\n",
    "plt.plot(y,y)\n",
    "plt.scatter(x, y)\n",
    "plt.show\n",
    "print('MSE:',loss.item())\n",
    "print('RMSE:', np.sqrt(loss.item()))\n",
    "print('Percentage error:', (np.exp(np.sqrt(cost.item()))-1)*100,'%')"
   ]
  },
  {
   "cell_type": "code",
   "execution_count": 26,
   "metadata": {},
   "outputs": [
    {
     "name": "stdout",
     "output_type": "stream",
     "text": [
      "[Parameter containing:\n",
      "tensor([[-1.5663, -0.3747, -0.2538, -0.0833, -0.6783, -4.9597]],\n",
      "       requires_grad=True), Parameter containing:\n",
      "tensor([4.3736], requires_grad=True)]\n"
     ]
    }
   ],
   "source": [
    "print(list(model.parameters()))"
   ]
  },
  {
   "cell_type": "code",
   "execution_count": 27,
   "metadata": {},
   "outputs": [],
   "source": [
    "eval_dat=pd.read_excel(\"./evaluate_data.xlsx\")"
   ]
  },
  {
   "cell_type": "code",
   "execution_count": 28,
   "metadata": {},
   "outputs": [],
   "source": [
    "t2_dat=eval_dat.loc[:,\"# of turns\":\"HFSS\"]\n",
    "t3_dat=eval_dat.loc[:,\"# of turns.1\":\"HFSS.1\"]\n",
    "t4_dat=eval_dat.loc[:,\"# of turns.2\":\"HFSS.2\"]\n",
    "t2_dat=t2_dat.replace(np.nan,0)\n",
    "t3_dat=t3_dat.replace(np.nan,0)\n",
    "t4_dat=t4_dat.replace(np.nan,0)\n",
    "t2_dat=data_restore(t2_dat)\n",
    "t3_dat=data_restore(t3_dat)\n",
    "t4_dat=data_restore(t4_dat)\n",
    "total_dat_temp=np.vstack([t2_dat.values, t3_dat.values,t4_dat.values])\n",
    "del_index=np.where(total_dat_temp[:,6]==0)[0]\n",
    "total_dat_temp=pd.DataFrame(total_dat_temp,columns=t2_dat.columns)\n",
    "total_eval=total_dat_temp.drop(del_index)\n",
    "total_eval=total_eval.values\n",
    "total_eval=np.delete(total_eval, 100, axis=0)\n",
    "log_dat_x=np.log(total_eval[:,:6])\n",
    "x_test=log_dat_x\n",
    "x_test=x_test/ max_x\n",
    "x_test=torch.FloatTensor(x_test)"
   ]
  },
  {
   "cell_type": "code",
   "execution_count": 29,
   "metadata": {},
   "outputs": [],
   "source": [
    "y_test=total_eval[:,6]"
   ]
  },
  {
   "cell_type": "code",
   "execution_count": 30,
   "metadata": {},
   "outputs": [],
   "source": [
    "x=np.squeeze(model(x_test).detach().numpy())\n",
    "predicted=np.exp(x)"
   ]
  },
  {
   "cell_type": "code",
   "execution_count": 31,
   "metadata": {},
   "outputs": [],
   "source": [
    "predicted=np.exp(x)\n",
    "HFSS=data[:,6]"
   ]
  },
  {
   "cell_type": "code",
   "execution_count": 32,
   "metadata": {},
   "outputs": [
    {
     "name": "stdout",
     "output_type": "stream",
     "text": [
      "MSE: 0.002250982677657074\n",
      "RMSE: 0.04744452210379059\n",
      "Percentage error: 4.858802604990919 %\n"
     ]
    },
    {
     "data": {
      "image/png": "[encoded data removed]",
      "text/plain": [
       "<Figure size 720x720 with 1 Axes>"
      ]
     },
     "metadata": {
      "needs_background": "light"
     },
     "output_type": "display_data"
    }
   ],
   "source": [
    "plt.figure(figsize=(10,10))\n",
    "plt.plot(y_test,y_test)\n",
    "plt.scatter(predicted, y_test,label='Predicted')\n",
    "plt.legend()\n",
    "plt.show\n",
    "mse_ls=np.linalg.norm(predicted-y_test)**2/len(y_test)\n",
    "print('MSE:',mse_ls)\n",
    "print('RMSE:', np.sqrt(np.linalg.norm(predicted-y_test)**2/len(y_test)))\n",
    "print('Percentage error:', (np.exp(np.sqrt(mse_ls))-1)*100,'%')"
   ]
  },
  {
   "cell_type": "code",
   "execution_count": 33,
   "metadata": {
    "scrolled": true
   },
   "outputs": [
    {
     "name": "stdout",
     "output_type": "stream",
     "text": [
      "[Parameter containing:\n",
      "tensor([[-1.5663, -0.3747, -0.2538, -0.0833, -0.6783, -4.9597]],\n",
      "       requires_grad=True), Parameter containing:\n",
      "tensor([4.3736], requires_grad=True)]\n"
     ]
    }
   ],
   "source": [
    "print(list(model.parameters()))"
   ]
  },
  {
   "cell_type": "code",
   "execution_count": 65,
   "metadata": {},
   "outputs": [
    {
     "name": "stdout",
     "output_type": "stream",
     "text": [
      "Scaled value:  [ 1.38629436  3.91202301 -1.2039728  -0.51082562  2.07944154  3.4657359 ]\n",
      "Theta:  [-1.13013516 -0.09578165  0.21096822  0.16326511 -0.32628953 -1.43115348]\n",
      "alpha:  4.373591\n"
     ]
    }
   ],
   "source": [
    "print(\"Scaled value: \",max_x)\n",
    "theta=np.array([-1.5667, -0.3747, -0.2540, -0.0834, -0.6785, -4.9600])/max_x\n",
    "print(\"Theta: \",theta)\n",
    "print(\"alpha: \",list(model.parameters())[1][0].detach().numpy())"
   ]
  },
  {
   "cell_type": "code",
   "execution_count": 47,
   "metadata": {},
   "outputs": [],
   "source": [
    "y_val=np.dot(np.log(total_eval[:,:6]),theta)+4.3745"
   ]
  },
  {
   "cell_type": "code",
   "execution_count": 51,
   "metadata": {},
   "outputs": [
    {
     "name": "stdout",
     "output_type": "stream",
     "text": [
      "MSE: 0.0022516160389186336\n",
      "RMSE: 0.04745119639080382\n",
      "Percentage error: 4.859502465070897 %\n"
     ]
    },
    {
     "data": {
      "image/png": "[encoded data removed]",
      "text/plain": [
       "<Figure size 720x720 with 1 Axes>"
      ]
     },
     "metadata": {
      "needs_background": "light"
     },
     "output_type": "display_data"
    }
   ],
   "source": [
    "plt.figure(figsize=(10,10))\n",
    "plt.plot(y_test,y_test)\n",
    "plt.scatter(np.exp(y_val), y_test,label='Predicted')\n",
    "plt.legend()\n",
    "plt.show\n",
    "predicted=np.exp(y_val)\n",
    "mse_ls=np.linalg.norm(predicted-y_test)**2/len(y_test)\n",
    "print('MSE:',mse_ls)\n",
    "print('RMSE:', np.sqrt(np.linalg.norm(predicted-y_test)**2/len(y_test)))\n",
    "print('Percentage error:', (np.exp(np.sqrt(mse_ls))-1)*100,'%')"
   ]
  },
  {
   "cell_type": "code",
   "execution_count": null,
   "metadata": {},
   "outputs": [],
   "source": []
  }
 ],
 "metadata": {
  "kernelspec": {
   "display_name": "Python 3",
   "language": "python",
   "name": "python3"
  },
  "language_info": {
   "codemirror_mode": {
    "name": "ipython",
    "version": 3
   },
   "file_extension": ".py",
   "mimetype": "text/x-python",
   "name": "python",
   "nbconvert_exporter": "python",
   "pygments_lexer": "ipython3",
   "version": "3.5.2"
  }
 },
 "nbformat": 4,
 "nbformat_minor": 4
}
