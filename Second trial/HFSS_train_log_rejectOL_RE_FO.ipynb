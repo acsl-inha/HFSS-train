{
 "cells": [
  {
   "cell_type": "code",
   "execution_count": 1,
   "metadata": {},
   "outputs": [],
   "source": [
    "import pandas as pd\n",
    "import numpy as np\n",
    "import torch\n",
    "import torch.nn as nn\n",
    "import torch.nn.functional as F\n",
    "import matplotlib.pyplot as plt"
   ]
  },
  {
   "cell_type": "code",
   "execution_count": 2,
   "metadata": {},
   "outputs": [],
   "source": [
    "xls_data=pd.read_excel(\"./table.xlsx\")"
   ]
  },
  {
   "cell_type": "code",
   "execution_count": 3,
   "metadata": {},
   "outputs": [],
   "source": [
    "t2_dat=xls_data.loc[:,\"# of turns\":\"HFSS\"]"
   ]
  },
  {
   "cell_type": "code",
   "execution_count": 4,
   "metadata": {},
   "outputs": [],
   "source": [
    "t3_dat=xls_data.loc[:,\"# of turns.1\":\"HFSS.1\"]"
   ]
  },
  {
   "cell_type": "code",
   "execution_count": 5,
   "metadata": {},
   "outputs": [],
   "source": [
    "t4_dat=xls_data.loc[:,\"# of turns.2\":\"HFSS.2\"]"
   ]
  },
  {
   "cell_type": "code",
   "execution_count": 6,
   "metadata": {},
   "outputs": [],
   "source": [
    "t2_dat=t2_dat.replace(np.nan,0)\n",
    "t3_dat=t3_dat.replace(np.nan,0)\n",
    "t4_dat=t4_dat.replace(np.nan,0)"
   ]
  },
  {
   "cell_type": "code",
   "execution_count": 7,
   "metadata": {},
   "outputs": [],
   "source": [
    "def data_restore(dat):\n",
    "    for col_name in dat.columns[:5]:\n",
    "        temp=0\n",
    "        for i in range(len(dat[col_name])):\n",
    "            if (dat.loc[i,col_name]!=0):\n",
    "                temp=dat.loc[i,col_name]\n",
    "            if (dat.loc[i,col_name]==0):\n",
    "                dat.loc[i,col_name]=temp\n",
    "    return dat"
   ]
  },
  {
   "cell_type": "code",
   "execution_count": 8,
   "metadata": {},
   "outputs": [],
   "source": [
    "t2_dat=data_restore(t2_dat)\n",
    "t3_dat=data_restore(t3_dat)\n",
    "t4_dat=data_restore(t4_dat)"
   ]
  },
  {
   "cell_type": "code",
   "execution_count": null,
   "metadata": {},
   "outputs": [],
   "source": [
    "total_dat_temp=np.vstack([t2_dat.values, t3_dat.values,t4_dat.values])"
   ]
  },
  {
   "cell_type": "code",
   "execution_count": null,
   "metadata": {},
   "outputs": [],
   "source": [
    "del_index=np.where(total_dat_temp[:,6]==0)[0]"
   ]
  },
  {
   "cell_type": "code",
   "execution_count": null,
   "metadata": {},
   "outputs": [],
   "source": [
    "total_dat_temp=pd.DataFrame(total_dat_temp,columns=t2_dat.columns)"
   ]
  },
  {
   "cell_type": "code",
   "execution_count": null,
   "metadata": {},
   "outputs": [],
   "source": [
    "total_dat=total_dat_temp.drop(del_index)"
   ]
  },
  {
   "cell_type": "code",
   "execution_count": null,
   "metadata": {},
   "outputs": [],
   "source": [
    "total_dat.to_csv(\"preprocessed_data.csv\",\n",
    "                 columns=total_dat.columns,sep=\",\", index=False)"
   ]
  },
  {
   "cell_type": "code",
   "execution_count": null,
   "metadata": {},
   "outputs": [],
   "source": [
    "data=total_dat.values\n",
    "data=np.delete(data, 100, axis=0)"
   ]
  },
  {
   "cell_type": "code",
   "execution_count": null,
   "metadata": {},
   "outputs": [],
   "source": [
    "log_dat_x=np.log(data[:,:6])"
   ]
  },
  {
   "cell_type": "code",
   "execution_count": null,
   "metadata": {},
   "outputs": [],
   "source": [
    "log_dat_y=np.log(data[:,6])"
   ]
  },
  {
   "cell_type": "code",
   "execution_count": null,
   "metadata": {},
   "outputs": [],
   "source": [
    "x_train=np.hstack([log_dat_x,data[:,:6]])"
   ]
  },
  {
   "cell_type": "code",
   "execution_count": null,
   "metadata": {},
   "outputs": [],
   "source": [
    "max_x=np.max(x_train, axis=0)"
   ]
  },
  {
   "cell_type": "code",
   "execution_count": null,
   "metadata": {},
   "outputs": [],
   "source": [
    "x_train=x_train/ max_x"
   ]
  },
  {
   "cell_type": "code",
   "execution_count": null,
   "metadata": {},
   "outputs": [],
   "source": [
    "y_train=log_dat_y"
   ]
  },
  {
   "cell_type": "code",
   "execution_count": null,
   "metadata": {},
   "outputs": [],
   "source": [
    "x_train=torch.FloatTensor(x_train)\n",
    "y_train=torch.FloatTensor(y_train)"
   ]
  },
  {
   "cell_type": "code",
   "execution_count": null,
   "metadata": {},
   "outputs": [],
   "source": [
    "gamma_vals = np.logspace(-3,1,100)\n",
    "\n",
    "mse = []\n",
    "card = []\n",
    "for val in gamma_vals:\n",
    "    \n",
    "    nb_epochs = 4000\n",
    "    model=nn.Linear(12,1)\n",
    "    optimizer = torch.optim.SGD(model.parameters(),lr=0.01)\n",
    "    for epoch in range(nb_epochs+1):\n",
    "\n",
    "        prediction = torch.squeeze(model(x_train))\n",
    "        regularity =  torch.norm(model.weight, p=1)\n",
    "        loss = F.mse_loss(prediction, y_train)\n",
    "        cost = loss + val*regularity\n",
    "        optimizer.zero_grad()\n",
    "        cost.backward()\n",
    "        optimizer.step()\n",
    "    mse.append(loss.item())\n",
    "    card.append(np.sum((model.weight).detach().numpy()<1e-6))\n"
   ]
  },
  {
   "cell_type": "code",
   "execution_count": null,
   "metadata": {},
   "outputs": [],
   "source": [
    "fig, ax1 = plt.subplots()\n",
    "\n",
    "color = 'tab:red'\n",
    "ax1.set_xlabel(r'gamma')\n",
    "ax1.set_ylabel('MSE', color=color)\n",
    "ax1.semilogx(gamma_vals, mse, color=color)\n",
    "ax1.tick_params(axis='y', labelcolor=color)\n",
    "ax1.grid()\n",
    "\n",
    "ax2 = ax1.twinx() \n",
    "\n",
    "color = 'tab:blue'\n",
    "ax2.set_ylabel('cardinality', color=color)  \n",
    "ax2.semilogx(gamma_vals, card, color=color)\n",
    "ax2.tick_params(axis='y', labelcolor=color)\n",
    "\n",
    "fig.tight_layout()  \n",
    "plt.show()"
   ]
  },
  {
   "cell_type": "code",
   "execution_count": null,
   "metadata": {},
   "outputs": [],
   "source": [
    "nb_epochs = 2000\n",
    "model=nn.Linear(12,1)\n",
    "val=0.001\n",
    "optimizer = torch.optim.SGD(model.parameters(),lr=0.1)\n",
    "for epoch in range(nb_epochs+1):\n",
    "\n",
    "    prediction = torch.squeeze(model(x_train))\n",
    "    regularity =  torch.norm(model.weight, p=1)\n",
    "    loss = F.mse_loss(prediction, y_train)\n",
    "    cost = loss + val*regularity\n",
    "    optimizer.zero_grad()\n",
    "    cost.backward()\n",
    "    optimizer.step()\n",
    "    \n",
    "    if epoch % 100 == 0:\n",
    "        print('Epoch {:4d}/{} Cost: {:.6f}'.format(\n",
    "              epoch, nb_epochs, cost.item()\n",
    "          ))"
   ]
  },
  {
   "cell_type": "code",
   "execution_count": null,
   "metadata": {},
   "outputs": [],
   "source": [
    "x=np.squeeze(model(x_train).detach().numpy())"
   ]
  },
  {
   "cell_type": "code",
   "execution_count": null,
   "metadata": {},
   "outputs": [],
   "source": [
    "y=y_train.detach().numpy()"
   ]
  },
  {
   "cell_type": "code",
   "execution_count": null,
   "metadata": {},
   "outputs": [],
   "source": [
    "plt.figure(figsize=(10,10))\n",
    "plt.plot(y,y)\n",
    "plt.scatter(x, y)\n",
    "plt.show\n",
    "print('MSE:',loss.item())\n",
    "print('RMSE:', np.sqrt(loss.item()))\n",
    "print('Percentage error:', (np.exp(np.sqrt(cost.item()))-1)*100,'%')"
   ]
  },
  {
   "cell_type": "code",
   "execution_count": null,
   "metadata": {},
   "outputs": [],
   "source": [
    "print(list(model.parameters()))"
   ]
  },
  {
   "cell_type": "code",
   "execution_count": null,
   "metadata": {},
   "outputs": [],
   "source": []
  }
 ],
 "metadata": {
  "kernelspec": {
   "display_name": "Python 3",
   "language": "python",
   "name": "python3"
  },
  "language_info": {
   "codemirror_mode": {
    "name": "ipython",
    "version": 3
   },
   "file_extension": ".py",
   "mimetype": "text/x-python",
   "name": "python",
   "nbconvert_exporter": "python",
   "pygments_lexer": "ipython3",
   "version": "3.5.2"
  }
 },
 "nbformat": 4,
 "nbformat_minor": 4
}
