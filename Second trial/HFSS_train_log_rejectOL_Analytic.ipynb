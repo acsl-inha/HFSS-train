{
 "cells": [
  {
   "cell_type": "code",
   "execution_count": 1,
   "metadata": {},
   "outputs": [],
   "source": [
    "import pandas as pd\n",
    "import numpy as np\n",
    "import torch\n",
    "import torch.nn as nn\n",
    "import torch.nn.functional as F\n",
    "import matplotlib.pyplot as plt"
   ]
  },
  {
   "cell_type": "code",
   "execution_count": 2,
   "metadata": {},
   "outputs": [],
   "source": [
    "xls_data=pd.read_excel(\"./table.xlsx\")"
   ]
  },
  {
   "cell_type": "code",
   "execution_count": 3,
   "metadata": {},
   "outputs": [],
   "source": [
    "t2_dat=xls_data.loc[:,\"# of turns\":\"Analytic\"]"
   ]
  },
  {
   "cell_type": "code",
   "execution_count": 4,
   "metadata": {},
   "outputs": [],
   "source": [
    "t3_dat=xls_data.loc[:,\"# of turns.1\":\"Analytic.1\"]"
   ]
  },
  {
   "cell_type": "code",
   "execution_count": 5,
   "metadata": {},
   "outputs": [],
   "source": [
    "t4_dat=xls_data.loc[:,\"# of turns.2\":\"Analytic.2\"]"
   ]
  },
  {
   "cell_type": "code",
   "execution_count": 6,
   "metadata": {},
   "outputs": [],
   "source": [
    "t2_dat=t2_dat.replace(np.nan,0)\n",
    "t3_dat=t3_dat.replace(np.nan,0)\n",
    "t4_dat=t4_dat.replace(np.nan,0)"
   ]
  },
  {
   "cell_type": "code",
   "execution_count": 7,
   "metadata": {},
   "outputs": [],
   "source": [
    "def data_restore(dat):\n",
    "    for col_name in dat.columns[:5]:\n",
    "        temp=0\n",
    "        for i in range(len(dat[col_name])):\n",
    "            if (dat.loc[i,col_name]!=0):\n",
    "                temp=dat.loc[i,col_name]\n",
    "            if (dat.loc[i,col_name]==0):\n",
    "                dat.loc[i,col_name]=temp\n",
    "    return dat"
   ]
  },
  {
   "cell_type": "code",
   "execution_count": 8,
   "metadata": {},
   "outputs": [],
   "source": [
    "t2_dat=data_restore(t2_dat)\n",
    "t3_dat=data_restore(t3_dat)\n",
    "t4_dat=data_restore(t4_dat)"
   ]
  },
  {
   "cell_type": "code",
   "execution_count": 9,
   "metadata": {},
   "outputs": [],
   "source": [
    "total_dat_temp=np.vstack([t2_dat.values, t3_dat.values,t4_dat.values])"
   ]
  },
  {
   "cell_type": "code",
   "execution_count": 10,
   "metadata": {},
   "outputs": [],
   "source": [
    "del_index=np.where(total_dat_temp[:,6]==0)[0]"
   ]
  },
  {
   "cell_type": "code",
   "execution_count": 11,
   "metadata": {},
   "outputs": [],
   "source": [
    "total_dat_temp=pd.DataFrame(total_dat_temp,columns=t2_dat.columns)"
   ]
  },
  {
   "cell_type": "code",
   "execution_count": 12,
   "metadata": {},
   "outputs": [],
   "source": [
    "total_dat=total_dat_temp.drop(del_index)"
   ]
  },
  {
   "cell_type": "code",
   "execution_count": 13,
   "metadata": {},
   "outputs": [],
   "source": [
    "data=total_dat.values\n",
    "data=np.delete(data, 100, axis=0)"
   ]
  },
  {
   "cell_type": "code",
   "execution_count": 14,
   "metadata": {},
   "outputs": [],
   "source": [
    "log_dat_x=np.log(data[:,:6])"
   ]
  },
  {
   "cell_type": "code",
   "execution_count": 15,
   "metadata": {},
   "outputs": [],
   "source": [
    "log_dat_y=np.log(data[:,7])"
   ]
  },
  {
   "cell_type": "code",
   "execution_count": 16,
   "metadata": {},
   "outputs": [],
   "source": [
    "x_train=log_dat_x"
   ]
  },
  {
   "cell_type": "code",
   "execution_count": 17,
   "metadata": {},
   "outputs": [],
   "source": [
    "max_x=np.max(x_train, axis=0)"
   ]
  },
  {
   "cell_type": "code",
   "execution_count": 18,
   "metadata": {},
   "outputs": [],
   "source": [
    "x_train=x_train/ max_x"
   ]
  },
  {
   "cell_type": "code",
   "execution_count": 19,
   "metadata": {},
   "outputs": [],
   "source": [
    "y_train=log_dat_y"
   ]
  },
  {
   "cell_type": "code",
   "execution_count": 20,
   "metadata": {},
   "outputs": [],
   "source": [
    "x_train=torch.FloatTensor(x_train)\n",
    "y_train=torch.FloatTensor(y_train)"
   ]
  },
  {
   "cell_type": "code",
   "execution_count": 21,
   "metadata": {},
   "outputs": [
    {
     "name": "stdout",
     "output_type": "stream",
     "text": [
      "Epoch    0/1000 Cost: 7.801713\n",
      "Epoch  100/1000 Cost: 0.489657\n",
      "Epoch  200/1000 Cost: 0.348953\n",
      "Epoch  300/1000 Cost: 0.287139\n",
      "Epoch  400/1000 Cost: 0.254951\n",
      "Epoch  500/1000 Cost: 0.237851\n",
      "Epoch  600/1000 Cost: 0.228624\n",
      "Epoch  700/1000 Cost: 0.223653\n",
      "Epoch  800/1000 Cost: 0.220986\n",
      "Epoch  900/1000 Cost: 0.219545\n",
      "Epoch 1000/1000 Cost: 0.218767\n"
     ]
    }
   ],
   "source": [
    "nb_epochs = 1000\n",
    "model=nn.Linear(6,1)\n",
    "val=0.001\n",
    "optimizer = torch.optim.SGD(model.parameters(),lr=0.1)\n",
    "for epoch in range(nb_epochs+1):\n",
    "\n",
    "    prediction = torch.squeeze(model(x_train))\n",
    "    regularity =  torch.norm(model.weight, p=1)\n",
    "    loss = F.mse_loss(prediction, y_train)\n",
    "    cost = loss + val*regularity\n",
    "    optimizer.zero_grad()\n",
    "    cost.backward()\n",
    "    optimizer.step()\n",
    "    \n",
    "    if epoch % 100 == 0:\n",
    "        print('Epoch {:4d}/{} Cost: {:.6f}'.format(\n",
    "              epoch, nb_epochs, cost.item()\n",
    "          ))"
   ]
  },
  {
   "cell_type": "code",
   "execution_count": 22,
   "metadata": {},
   "outputs": [],
   "source": [
    "x=np.squeeze(model(x_train).detach().numpy())"
   ]
  },
  {
   "cell_type": "code",
   "execution_count": 23,
   "metadata": {},
   "outputs": [],
   "source": [
    "y=y_train.detach().numpy()"
   ]
  },
  {
   "cell_type": "code",
   "execution_count": 24,
   "metadata": {},
   "outputs": [
    {
     "name": "stdout",
     "output_type": "stream",
     "text": [
      "MSE: 0.21122653782367706\n",
      "RMSE: 0.4595938835794892\n",
      "Percentage error: 59.6358748547676 %\n"
     ]
    },
    {
     "data": {
      "image/png": "[encoded data removed]",
      "text/plain": [
       "<Figure size 720x720 with 1 Axes>"
      ]
     },
     "metadata": {
      "needs_background": "light"
     },
     "output_type": "display_data"
    }
   ],
   "source": [
    "plt.figure(figsize=(10,10))\n",
    "plt.plot(y,y)\n",
    "plt.scatter(x, y)\n",
    "plt.show\n",
    "print('MSE:',loss.item())\n",
    "print('RMSE:', np.sqrt(loss.item()))\n",
    "print('Percentage error:', (np.exp(np.sqrt(cost.item()))-1)*100,'%')"
   ]
  },
  {
   "cell_type": "code",
   "execution_count": 25,
   "metadata": {},
   "outputs": [
    {
     "name": "stdout",
     "output_type": "stream",
     "text": [
      "[Parameter containing:\n",
      "tensor([[-1.6839, -0.5034, -0.1910, -0.0212, -0.7672, -4.3745]],\n",
      "       requires_grad=True), Parameter containing:\n",
      "tensor([4.0829], requires_grad=True)]\n"
     ]
    }
   ],
   "source": [
    "print(list(model.parameters()))"
   ]
  },
  {
   "cell_type": "code",
   "execution_count": 26,
   "metadata": {},
   "outputs": [
    {
     "name": "stdout",
     "output_type": "stream",
     "text": [
      "(array([ 10, 268, 412]),)\n"
     ]
    }
   ],
   "source": [
    "out_lier_index=np.nonzero(np.square(x-y)>0.5)\n",
    "print(out_lier_index)"
   ]
  },
  {
   "cell_type": "code",
   "execution_count": 27,
   "metadata": {},
   "outputs": [],
   "source": [
    "out_liers=np.zeros((3,8))"
   ]
  },
  {
   "cell_type": "code",
   "execution_count": 28,
   "metadata": {},
   "outputs": [],
   "source": [
    "for i in range(3):\n",
    "    out_liers[i]=data[out_lier_index[0][i],:]"
   ]
  },
  {
   "cell_type": "code",
   "execution_count": 29,
   "metadata": {},
   "outputs": [
    {
     "data": {
      "text/html": [
       "<div>\n",
       "<style scoped>\n",
       "    .dataframe tbody tr th:only-of-type {\n",
       "        vertical-align: middle;\n",
       "    }\n",
       "\n",
       "    .dataframe tbody tr th {\n",
       "        vertical-align: top;\n",
       "    }\n",
       "\n",
       "    .dataframe thead th {\n",
       "        text-align: right;\n",
       "    }\n",
       "</style>\n",
       "<table border=\"1\" class=\"dataframe\">\n",
       "  <thead>\n",
       "    <tr style=\"text-align: right;\">\n",
       "      <th></th>\n",
       "      <th># of turns</th>\n",
       "      <th>permittivity(sur)</th>\n",
       "      <th>LS/LW</th>\n",
       "      <th>SEP</th>\n",
       "      <th>permittivity(sub)</th>\n",
       "      <th>OD</th>\n",
       "      <th>HFSS</th>\n",
       "      <th>Analytic</th>\n",
       "    </tr>\n",
       "  </thead>\n",
       "  <tbody>\n",
       "    <tr>\n",
       "      <th>0</th>\n",
       "      <td>2.0</td>\n",
       "      <td>1.0</td>\n",
       "      <td>0.1</td>\n",
       "      <td>0.3</td>\n",
       "      <td>8.0</td>\n",
       "      <td>2.0</td>\n",
       "      <td>2.877300</td>\n",
       "      <td>25434.00000</td>\n",
       "    </tr>\n",
       "    <tr>\n",
       "      <th>1</th>\n",
       "      <td>3.0</td>\n",
       "      <td>30.0</td>\n",
       "      <td>0.3</td>\n",
       "      <td>0.6</td>\n",
       "      <td>8.0</td>\n",
       "      <td>32.0</td>\n",
       "      <td>0.032700</td>\n",
       "      <td>0.44497</td>\n",
       "    </tr>\n",
       "    <tr>\n",
       "      <th>2</th>\n",
       "      <td>4.0</td>\n",
       "      <td>30.0</td>\n",
       "      <td>0.3</td>\n",
       "      <td>0.6</td>\n",
       "      <td>2.2</td>\n",
       "      <td>32.0</td>\n",
       "      <td>0.050364</td>\n",
       "      <td>0.54049</td>\n",
       "    </tr>\n",
       "  </tbody>\n",
       "</table>\n",
       "</div>"
      ],
      "text/plain": [
       "   # of turns  permittivity(sur)  LS/LW  SEP  permittivity(sub)    OD  \\\n",
       "0         2.0                1.0    0.1  0.3                8.0   2.0   \n",
       "1         3.0               30.0    0.3  0.6                8.0  32.0   \n",
       "2         4.0               30.0    0.3  0.6                2.2  32.0   \n",
       "\n",
       "       HFSS     Analytic  \n",
       "0  2.877300  25434.00000  \n",
       "1  0.032700      0.44497  \n",
       "2  0.050364      0.54049  "
      ]
     },
     "execution_count": 29,
     "metadata": {},
     "output_type": "execute_result"
    }
   ],
   "source": [
    "pd.DataFrame(out_liers,columns=total_dat.columns)"
   ]
  },
  {
   "cell_type": "code",
   "execution_count": 30,
   "metadata": {},
   "outputs": [],
   "source": [
    "data=np.delete(data, 412, axis=0)\n",
    "data=np.delete(data, 268, axis=0)\n",
    "data=np.delete(data, 10, axis=0)"
   ]
  },
  {
   "cell_type": "code",
   "execution_count": 31,
   "metadata": {},
   "outputs": [],
   "source": [
    "log_dat_x=np.log(data[:,:6])\n",
    "log_dat_y=np.log(data[:,7])\n",
    "x_train=log_dat_x\n",
    "max_x=np.max(x_train, axis=0)\n",
    "x_train=x_train/ max_x\n",
    "y_train=log_dat_y\n",
    "x_train=torch.FloatTensor(x_train)\n",
    "y_train=torch.FloatTensor(y_train)"
   ]
  },
  {
   "cell_type": "code",
   "execution_count": 32,
   "metadata": {},
   "outputs": [
    {
     "name": "stdout",
     "output_type": "stream",
     "text": [
      "Epoch    0/1000 Cost: 3.079082\n",
      "Epoch  100/1000 Cost: 0.296529\n",
      "Epoch  200/1000 Cost: 0.151004\n",
      "Epoch  300/1000 Cost: 0.089631\n",
      "Epoch  400/1000 Cost: 0.058105\n",
      "Epoch  500/1000 Cost: 0.041439\n",
      "Epoch  600/1000 Cost: 0.032509\n",
      "Epoch  700/1000 Cost: 0.027720\n",
      "Epoch  800/1000 Cost: 0.025140\n",
      "Epoch  900/1000 Cost: 0.023751\n",
      "Epoch 1000/1000 Cost: 0.023003\n"
     ]
    }
   ],
   "source": [
    "nb_epochs = 1000\n",
    "model=nn.Linear(6,1)\n",
    "val=0.001\n",
    "optimizer = torch.optim.SGD(model.parameters(),lr=0.1)\n",
    "for epoch in range(nb_epochs+1):\n",
    "\n",
    "    prediction = torch.squeeze(model(x_train))\n",
    "    regularity =  torch.norm(model.weight, p=1)\n",
    "    loss = F.mse_loss(prediction, y_train)\n",
    "    cost = loss + val*regularity\n",
    "    optimizer.zero_grad()\n",
    "    cost.backward()\n",
    "    optimizer.step()\n",
    "    \n",
    "    if epoch % 100 == 0:\n",
    "        print('Epoch {:4d}/{} Cost: {:.6f}'.format(\n",
    "              epoch, nb_epochs, cost.item()\n",
    "          ))"
   ]
  },
  {
   "cell_type": "code",
   "execution_count": 33,
   "metadata": {},
   "outputs": [
    {
     "name": "stdout",
     "output_type": "stream",
     "text": [
      "MSE: 0.015556982718408108\n",
      "RMSE: 0.12472763414098781\n",
      "Percentage error: 16.377273160237248 %\n"
     ]
    },
    {
     "data": {
      "image/png": "[encoded data removed]",
      "text/plain": [
       "<Figure size 720x720 with 1 Axes>"
      ]
     },
     "metadata": {
      "needs_background": "light"
     },
     "output_type": "display_data"
    }
   ],
   "source": [
    "x=np.squeeze(model(x_train).detach().numpy())\n",
    "y=y_train.detach().numpy()\n",
    "plt.figure(figsize=(10,10))\n",
    "plt.plot(y,y)\n",
    "plt.scatter(x, y)\n",
    "plt.show\n",
    "print('MSE:',loss.item())\n",
    "print('RMSE:', np.sqrt(loss.item()))\n",
    "print('Percentage error:', (np.exp(np.sqrt(cost.item()))-1)*100,'%')"
   ]
  },
  {
   "cell_type": "code",
   "execution_count": 34,
   "metadata": {},
   "outputs": [],
   "source": [
    "predicted=np.exp(x)\n",
    "HFSS=data[:,6]\n",
    "Analytic=data[:,7]"
   ]
  },
  {
   "cell_type": "code",
   "execution_count": 35,
   "metadata": {},
   "outputs": [
    {
     "name": "stdout",
     "output_type": "stream",
     "text": [
      "MSE_Predicted: 0.016100425768761827\n",
      "RMSE_Predicted: 0.12688745315736236\n",
      "Percentage error_HFSS: 13.528923737183373 %\n",
      "MSE_HFSS: 0.03649803018862795\n",
      "RMSE_HFSS: 0.19104457644389686\n",
      "Percentage error_HFSS: 17.2739773872769 %\n"
     ]
    },
    {
     "data": {
      "image/png": "[encoded data removed]",
      "text/plain": [
       "<Figure size 720x720 with 1 Axes>"
      ]
     },
     "metadata": {
      "needs_background": "light"
     },
     "output_type": "display_data"
    }
   ],
   "source": [
    "plt.figure(figsize=(10,10))\n",
    "plt.plot(Analytic,Analytic)\n",
    "plt.scatter(predicted, Analytic,label='Predicted')\n",
    "plt.scatter(HFSS, Analytic,label='HFSS')\n",
    "plt.legend()\n",
    "plt.show\n",
    "mse_ls=np.linalg.norm(predicted-Analytic)**2/len(Analytic)\n",
    "# mse_ls=F.mse_loss(torch.FloatTensor(predicted),torch.FloatTensor(Analytic))\n",
    "print('MSE_Predicted:',mse_ls)\n",
    "print('RMSE_Predicted:', np.sqrt(np.linalg.norm(predicted-Analytic)**2/len(Analytic)))\n",
    "print('Percentage error_HFSS:', (np.exp(np.sqrt(mse_ls))-1)*100,'%')\n",
    "# print('MSE:',loss.item())\n",
    "# print('RMSE:', np.sqrt(loss.item()))\n",
    "# print('Percentage error:', (np.exp(np.sqrt(cost.item()))-1)*100,'%')\n",
    "print('MSE_HFSS:',np.linalg.norm(HFSS-Analytic)**2/len(Analytic))\n",
    "print('RMSE_HFSS:', np.sqrt(np.linalg.norm(HFSS-Analytic)**2/len(Analytic)))\n",
    "print('Percentage error_HFSS:', np.sum(np.abs(HFSS-Analytic)/Analytic)/len(Analytic)*100,'%')"
   ]
  },
  {
   "cell_type": "code",
   "execution_count": null,
   "metadata": {},
   "outputs": [],
   "source": []
  }
 ],
 "metadata": {
  "kernelspec": {
   "display_name": "Python 3",
   "language": "python",
   "name": "python3"
  },
  "language_info": {
   "codemirror_mode": {
    "name": "ipython",
    "version": 3
   },
   "file_extension": ".py",
   "mimetype": "text/x-python",
   "name": "python",
   "nbconvert_exporter": "python",
   "pygments_lexer": "ipython3",
   "version": "3.5.2"
  }
 },
 "nbformat": 4,
 "nbformat_minor": 4
}
