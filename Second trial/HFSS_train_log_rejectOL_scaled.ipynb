{
 "cells": [
  {
   "cell_type": "code",
   "execution_count": 1,
   "metadata": {},
   "outputs": [],
   "source": [
    "import pandas as pd\n",
    "import numpy as np\n",
    "import torch\n",
    "import torch.nn as nn\n",
    "import torch.nn.functional as F\n",
    "import matplotlib.pyplot as plt"
   ]
  },
  {
   "cell_type": "code",
   "execution_count": 2,
   "metadata": {},
   "outputs": [],
   "source": [
    "xls_data=pd.read_excel(\"./table.xlsx\")"
   ]
  },
  {
   "cell_type": "code",
   "execution_count": 3,
   "metadata": {},
   "outputs": [],
   "source": [
    "t2_dat=xls_data.loc[:,\"# of turns\":\"HFSS\"]"
   ]
  },
  {
   "cell_type": "code",
   "execution_count": 4,
   "metadata": {},
   "outputs": [],
   "source": [
    "t3_dat=xls_data.loc[:,\"# of turns.1\":\"HFSS.1\"]"
   ]
  },
  {
   "cell_type": "code",
   "execution_count": 5,
   "metadata": {},
   "outputs": [],
   "source": [
    "t4_dat=xls_data.loc[:,\"# of turns.2\":\"HFSS.2\"]"
   ]
  },
  {
   "cell_type": "code",
   "execution_count": 6,
   "metadata": {},
   "outputs": [],
   "source": [
    "t2_dat=t2_dat.replace(np.nan,0)\n",
    "t3_dat=t3_dat.replace(np.nan,0)\n",
    "t4_dat=t4_dat.replace(np.nan,0)"
   ]
  },
  {
   "cell_type": "code",
   "execution_count": 7,
   "metadata": {},
   "outputs": [],
   "source": [
    "def data_restore(dat):\n",
    "    for col_name in dat.columns[:5]:\n",
    "        temp=0\n",
    "        for i in range(len(dat[col_name])):\n",
    "            if (dat.loc[i,col_name]!=0):\n",
    "                temp=dat.loc[i,col_name]\n",
    "            if (dat.loc[i,col_name]==0):\n",
    "                dat.loc[i,col_name]=temp\n",
    "    return dat"
   ]
  },
  {
   "cell_type": "code",
   "execution_count": 8,
   "metadata": {},
   "outputs": [],
   "source": [
    "t2_dat=data_restore(t2_dat)\n",
    "t3_dat=data_restore(t3_dat)\n",
    "t4_dat=data_restore(t4_dat)"
   ]
  },
  {
   "cell_type": "code",
   "execution_count": 9,
   "metadata": {},
   "outputs": [],
   "source": [
    "total_dat_temp=np.vstack([t2_dat.values, t3_dat.values,t4_dat.values])"
   ]
  },
  {
   "cell_type": "code",
   "execution_count": 10,
   "metadata": {},
   "outputs": [],
   "source": [
    "del_index=np.where(total_dat_temp[:,6]==0)[0]"
   ]
  },
  {
   "cell_type": "code",
   "execution_count": 11,
   "metadata": {},
   "outputs": [],
   "source": [
    "total_dat_temp=pd.DataFrame(total_dat_temp,columns=t2_dat.columns)"
   ]
  },
  {
   "cell_type": "code",
   "execution_count": 12,
   "metadata": {},
   "outputs": [],
   "source": [
    "total_dat=total_dat_temp.drop(del_index)"
   ]
  },
  {
   "cell_type": "code",
   "execution_count": 13,
   "metadata": {},
   "outputs": [],
   "source": [
    "total_dat.to_csv(\"preprocessed_data.csv\",\n",
    "                 columns=total_dat.columns,sep=\",\", index=False)"
   ]
  },
  {
   "cell_type": "code",
   "execution_count": 14,
   "metadata": {},
   "outputs": [],
   "source": [
    "data=total_dat.values\n",
    "data=np.delete(data, 100, axis=0)"
   ]
  },
  {
   "cell_type": "code",
   "execution_count": 15,
   "metadata": {},
   "outputs": [],
   "source": [
    "log_dat_x=np.log(data[:,:6])"
   ]
  },
  {
   "cell_type": "code",
   "execution_count": 16,
   "metadata": {},
   "outputs": [],
   "source": [
    "log_dat_y=np.log(data[:,6])"
   ]
  },
  {
   "cell_type": "code",
   "execution_count": 17,
   "metadata": {},
   "outputs": [],
   "source": [
    "x_train=log_dat_x"
   ]
  },
  {
   "cell_type": "code",
   "execution_count": 18,
   "metadata": {},
   "outputs": [],
   "source": [
    "max_x=np.max(x_train, axis=0)"
   ]
  },
  {
   "cell_type": "code",
   "execution_count": 19,
   "metadata": {},
   "outputs": [],
   "source": [
    "x_train=x_train/ max_x"
   ]
  },
  {
   "cell_type": "code",
   "execution_count": 20,
   "metadata": {},
   "outputs": [],
   "source": [
    "max_y=np.max(log_dat_y)"
   ]
  },
  {
   "cell_type": "code",
   "execution_count": 21,
   "metadata": {},
   "outputs": [],
   "source": [
    "y_train=log_dat_y/max_y"
   ]
  },
  {
   "cell_type": "code",
   "execution_count": 22,
   "metadata": {},
   "outputs": [],
   "source": [
    "x_train=torch.FloatTensor(x_train)\n",
    "y_train=torch.FloatTensor(y_train)"
   ]
  },
  {
   "cell_type": "code",
   "execution_count": 23,
   "metadata": {},
   "outputs": [],
   "source": [
    "model=nn.Linear(6,1)"
   ]
  },
  {
   "cell_type": "code",
   "execution_count": 24,
   "metadata": {},
   "outputs": [
    {
     "name": "stdout",
     "output_type": "stream",
     "text": [
      "[Parameter containing:\n",
      "tensor([[ 0.1938, -0.4077, -0.2841,  0.2276, -0.0659, -0.0605]],\n",
      "       requires_grad=True), Parameter containing:\n",
      "tensor([-0.3350], requires_grad=True)]\n"
     ]
    }
   ],
   "source": [
    "print(list(model.parameters()))"
   ]
  },
  {
   "cell_type": "code",
   "execution_count": 25,
   "metadata": {},
   "outputs": [],
   "source": [
    "optimizer = torch.optim.SGD(model.parameters(), lr=0.1)"
   ]
  },
  {
   "cell_type": "code",
   "execution_count": 26,
   "metadata": {},
   "outputs": [
    {
     "name": "stdout",
     "output_type": "stream",
     "text": [
      "Epoch    0/1000 Cost: 0.868214\n",
      "Epoch  100/1000 Cost: 0.153209\n",
      "Epoch  200/1000 Cost: 0.079339\n",
      "Epoch  300/1000 Cost: 0.046608\n",
      "Epoch  400/1000 Cost: 0.029545\n",
      "Epoch  500/1000 Cost: 0.020397\n",
      "Epoch  600/1000 Cost: 0.015464\n",
      "Epoch  700/1000 Cost: 0.012800\n",
      "Epoch  800/1000 Cost: 0.011361\n",
      "Epoch  900/1000 Cost: 0.010583\n",
      "Epoch 1000/1000 Cost: 0.010163\n",
      "time:0.289000 s\n"
     ]
    }
   ],
   "source": [
    "import time\n",
    "nb_epochs = 1000\n",
    "start = time.time()\n",
    "for epoch in range(nb_epochs+1):\n",
    "\n",
    "    prediction = torch.squeeze(model(x_train))\n",
    "    cost = F.mse_loss(prediction, y_train) \n",
    "    optimizer.zero_grad()\n",
    "    cost.backward()\n",
    "    optimizer.step()\n",
    "\n",
    "    if epoch % 100 == 0:\n",
    "      print('Epoch {:4d}/{} Cost: {:.6f}'.format(\n",
    "          epoch, nb_epochs, cost.item()\n",
    "      ))\n",
    "print(\"time:{:.6f} s\".format(time.time()-start))"
   ]
  },
  {
   "cell_type": "code",
   "execution_count": 27,
   "metadata": {},
   "outputs": [
    {
     "name": "stdout",
     "output_type": "stream",
     "text": [
      "[Parameter containing:\n",
      "tensor([[-0.9355, -0.2302, -0.1391, -0.0444, -0.4001, -3.0960]],\n",
      "       requires_grad=True), Parameter containing:\n",
      "tensor([2.6266], requires_grad=True)]\n"
     ]
    }
   ],
   "source": [
    "print(list(model.parameters()))"
   ]
  },
  {
   "cell_type": "code",
   "execution_count": 28,
   "metadata": {},
   "outputs": [],
   "source": [
    "x=np.squeeze(model(x_train).detach().numpy())"
   ]
  },
  {
   "cell_type": "code",
   "execution_count": 29,
   "metadata": {},
   "outputs": [],
   "source": [
    "y=y_train.detach().numpy()"
   ]
  },
  {
   "cell_type": "code",
   "execution_count": 30,
   "metadata": {},
   "outputs": [
    {
     "data": {
      "text/plain": [
       "(467,)"
      ]
     },
     "execution_count": 30,
     "metadata": {},
     "output_type": "execute_result"
    }
   ],
   "source": [
    "x.shape"
   ]
  },
  {
   "cell_type": "code",
   "execution_count": 31,
   "metadata": {},
   "outputs": [
    {
     "data": {
      "text/plain": [
       "(467,)"
      ]
     },
     "execution_count": 31,
     "metadata": {},
     "output_type": "execute_result"
    }
   ],
   "source": [
    "y.shape"
   ]
  },
  {
   "cell_type": "code",
   "execution_count": 32,
   "metadata": {},
   "outputs": [
    {
     "name": "stdout",
     "output_type": "stream",
     "text": [
      "MSE: 0.01016303151845932\n",
      "RMSE: 0.10081186199281968\n",
      "Percentage error: 10.606852865825832 %\n"
     ]
    },
    {
     "data": {
      "image/png": "[encoded data removed]",
      "text/plain": [
       "<Figure size 720x720 with 1 Axes>"
      ]
     },
     "metadata": {
      "needs_background": "light"
     },
     "output_type": "display_data"
    }
   ],
   "source": [
    "plt.figure(figsize=(10,10))\n",
    "plt.plot(y,y)\n",
    "plt.scatter(x, y)\n",
    "plt.show\n",
    "print('MSE:',cost.item())\n",
    "print('RMSE:', np.sqrt(cost.item()))\n",
    "print('Percentage error:', (np.exp(np.sqrt(cost.item()))-1)*100,'%')"
   ]
  },
  {
   "cell_type": "code",
   "execution_count": null,
   "metadata": {},
   "outputs": [],
   "source": []
  }
 ],
 "metadata": {
  "kernelspec": {
   "display_name": "Python 3",
   "language": "python",
   "name": "python3"
  },
  "language_info": {
   "codemirror_mode": {
    "name": "ipython",
    "version": 3
   },
   "file_extension": ".py",
   "mimetype": "text/x-python",
   "name": "python",
   "nbconvert_exporter": "python",
   "pygments_lexer": "ipython3",
   "version": "3.5.2"
  }
 },
 "nbformat": 4,
 "nbformat_minor": 4
}
